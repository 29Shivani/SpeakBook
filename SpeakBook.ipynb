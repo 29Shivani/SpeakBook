{
 "cells": [
  {
   "cell_type": "markdown",
   "id": "bf040028-9c49-425d-b13e-c49a59c16602",
   "metadata": {},
   "source": [
    "Python Program to Create SpeakBook from PDF"
   ]
  },
  {
   "cell_type": "code",
   "execution_count": null,
   "id": "1c6f32e8-f93e-44f7-9203-e7002fe9cb0f",
   "metadata": {},
   "outputs": [],
   "source": [
    "!pip install pyttsx3 PyPDF2"
   ]
  },
  {
   "cell_type": "code",
   "execution_count": null,
   "id": "c67238c8-16e8-4ed1-8c22-cda105cb3be3",
   "metadata": {},
   "outputs": [],
   "source": [
    "# Import the necessary modules!\n",
    "import pyttsx3\n",
    "import PyPDF2\n",
    "\n",
    "# Open our file in reading format and store into book\n",
    "book = open('RohitSharma.pdf', 'rb')\n",
    "\n",
    "# Call PyPDF2's PdfReader method on book and store it into pdf_reader\n",
    "pdf_reader = PyPDF2.PdfReader(book)\n",
    "\n",
    "# Calculate the no of pages in our pdf by using numPages method\n",
    "num_pages = len(pdf_reader.pages)\n",
    "\n",
    "# Initialize pyttsx3 using init method and let's print playing Audiobook\n",
    "play = pyttsx3.init()\n",
    "print('Playing Audio Book')\n",
    "\n",
    "# Run a loop for the number of pages in our pdf file. \n",
    "# A page will get retrieved at each iteration.\n",
    "for num in range(num_pages):\n",
    "    page = pdf_reader.pages[num]\n",
    "    # Extract the text from our page using extractText method on our page and store it into data.\n",
    "    data = page.extract_text()\n",
    "\n",
    "    # Call say method on data and finally we can call runAndWait method at the end.    \n",
    "    play.say(data)\n",
    "    play.runAndWait()"
   ]
  }
 ],
 "metadata": {
  "kernelspec": {
   "display_name": "Python 3 (ipykernel)",
   "language": "python",
   "name": "python3"
  },
  "language_info": {
   "codemirror_mode": {
    "name": "ipython",
    "version": 3
   },
   "file_extension": ".py",
   "mimetype": "text/x-python",
   "name": "python",
   "nbconvert_exporter": "python",
   "pygments_lexer": "ipython3",
   "version": "3.9.8"
  }
 },
 "nbformat": 4,
 "nbformat_minor": 5
}
